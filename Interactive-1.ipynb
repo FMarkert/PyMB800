{
 "cells": [
  {
   "cell_type": "markdown",
   "metadata": {
    "isInteractiveWindowMessageCell": true
   },
   "source": [
    "Verbunden mit Python 3.11.2"
   ]
  },
  {
   "cell_type": "code",
   "execution_count": 1,
   "metadata": {},
   "outputs": [],
   "source": [
    "import os\n",
    "import json\n",
    "import random\n",
    "import models\n",
    "\n",
    "\n",
    "def gamemode_directory(gamemode):\n",
    "    \n",
    "    base_dir = os.path.abspath(os.path.dirname(__file__))\n",
    "\n",
    " \n",
    "    if gamemode == \"l4d_1-40\":   # Deine Spielmodi-Logik\n",
    "        mode_directory = ['l4d', '1-40']\n",
    "    elif gamemode == \"l4d_41-80\":\n",
    "        mode_directory = ['l4d', '41-80']\n",
    "    elif gamemode == \"l4d_81-136\":\n",
    "        mode_directory = ['l4d', '81-136']\n",
    "    elif gamemode == \"l4d_complete\":\n",
    "        print(\"not available yet\") # Wird im späteren Verlauf integriert   \n",
    "        return None\n",
    "    elif gamemode == \"xt\":\n",
    "        mode_directory = [\"xt\"]\n",
    "    else:\n",
    "        print(\"Error: Mode not found\")\n",
    "        return None\n",
    "\n",
    "    # Baue den Pfad basierend auf dem gewählten Spielmodus\n",
    "    mode_path = os.path.join(base_dir, \"data\", \"questions\", *mode_directory)\n",
    "\n",
    "    # Überprüfe, ob das Verzeichnis existiert\n",
    "    if not os.path.isdir(mode_path):\n",
    "        print(f\"Verzeichnis für Spielmodus '{gamemode}' existiert nicht: {mode_path}\")\n",
    "        return None\n",
    "    return mode_path\n",
    "\n",
    "\n",
    "# Es wird noch eine Funktion benötigt, die je nach Gamemode einen Fragenpool aus mehreren Verzeichnissen bildet\n",
    "\n",
    "def json_to_object(directory):\n",
    "    questions = []\n",
    "    errors = []\n",
    "    for filename in os.listdir(directory):\n",
    "        if filename.endswith(\".json\"):\n",
    "            filepath = os.path.join(directory, filename)\n",
    "            try:\n",
    "                with open(filepath, 'r') as file:\n",
    "                    data = json.load(file)\n",
    "\n",
    "                    if data['type'] == 'drag_drop_order':\n",
    "                        question = models.Drag_Drop_Order(\n",
    "                            id=data['id'],\n",
    "                            question_text=data['question_text'],\n",
    "                            src=data['src'],\n",
    "                            type=data['type'],  # Hinzufügen des fehlenden Parameters\n",
    "                            comment=data.get('comment', ''),\n",
    "                            casestudy=data.get('casestudy', ''),\n",
    "                            items=data['items'],\n",
    "                        )\n",
    "                    elif data['type'] == 'drag_drop_pairs':\n",
    "                        question = models.Drag_Drop_Pairs(\n",
    "                            id=data['id'],\n",
    "                            question_text=data['question_text'],\n",
    "                            src=data['src'],\n",
    "                            type=data['type'],  # Hinzufügen des fehlenden Parameters\n",
    "                            comment=data.get('comment', ''),\n",
    "                            casestudy=data.get('casestudy', ''),\n",
    "                            items=data['items']\n",
    "                        )\n",
    "                    elif data['type'] == 'dropdown':\n",
    "                        question = models.Dropdown(\n",
    "                            id=data['id'],\n",
    "                            question_text=data['question_text'],\n",
    "                            src=data['src'],\n",
    "                            type=data['type'],  # Hinzufügen des fehlenden Parameters\n",
    "                            comment=data.get('comment', ''),\n",
    "                            casestudy=data.get('casestudy', ''),\n",
    "                            items=data['items'],\n",
    "                            correct_answer=data['correct_answer']\n",
    "                        )\n",
    "                    elif data['type'] == 'multiple_choice':\n",
    "                        question = models.Multiple_Choice(\n",
    "                            id=data['id'],\n",
    "                            question_text=data['question_text'],\n",
    "                            src=data['src'],\n",
    "                            type=data['type'],  # Hinzufügen des fehlenden Parameters\n",
    "                            comment=data.get('comment', ''),\n",
    "                            casestudy=data.get('casestudy', ''),\n",
    "                            items=data['items'],\n",
    "                            correct_answer=data['correct_answer']\n",
    "                        )\n",
    "                    else:\n",
    "                        print(f\"Unbekannter Fragetyp: {data['type']} in Datei {filename}\")\n",
    "                        continue\n",
    "\n",
    "                    question_dict = object_to_dict(question)\n",
    "                    questions.append(question_dict)\n",
    "            except Exception as e:\n",
    "                error_message = f\"Fehler beim Laden der Frage aus {filename}: {e}\"\n",
    "                errors.append(error_message)\n",
    "    return questions, errors                  \n",
    "\n",
    "\n",
    "\n",
    "def shuffle_questionpool(questions): # Die Liste mit Fragen wird durchgemischt \n",
    "    random.shuffle(questions)\n",
    "\n",
    "def start_demo():\n",
    "    gamemode = \"l4d_1-40\"\n",
    "    directory = gamemode_directory(gamemode)\n",
    "    questions, errors = json_to_object(directory)\n",
    "    return questions, errors\n",
    "\n",
    "def object_to_dict(obj):\n",
    "    if obj.type == 'drag_drop_pairs' or obj.type == 'drag_drop_order':\n",
    "        return {\n",
    "            'id': obj.id,\n",
    "            'question_text': obj.question_text,\n",
    "            'src': obj.src,\n",
    "            'type': obj.type,\n",
    "            'comment': obj.comment,\n",
    "            'casestudy': obj.casestudy,\n",
    "            'items': obj.items\n",
    "        }\n",
    "    else:\n",
    "        return {\n",
    "            'id': obj.id,\n",
    "            'question_text': obj.question_text,\n",
    "            'src': obj.src,\n",
    "            'type': obj.type,\n",
    "            'comment': obj.comment,\n",
    "            'casestudy': obj.casestudy,\n",
    "            'items': obj.items,\n",
    "            'correct_answer': obj.correct_answer\n",
    "        }"
   ]
  },
  {
   "cell_type": "code",
   "execution_count": 2,
   "metadata": {},
   "outputs": [],
   "source": [
    "dir = gamemode_directory(\"l4d_1-40\")"
   ]
  },
  {
   "cell_type": "code",
   "execution_count": 3,
   "metadata": {},
   "outputs": [
    {
     "name": "stdout",
     "output_type": "stream",
     "text": [
      "Basisklasse erstellt\n",
      "Basisklasse erstellt\n",
      "Basisklasse erstellt\n",
      "MC Frage erstellt\n",
      "Basisklasse erstellt\n",
      "Drag_Drop_Order Frage erstellt\n",
      "Basisklasse erstellt\n",
      "MC Frage erstellt\n"
     ]
    }
   ],
   "source": [
    "questions,errors = json_to_object(dir)"
   ]
  },
  {
   "cell_type": "code",
   "execution_count": 4,
   "metadata": {},
   "outputs": [
    {
     "name": "stdout",
     "output_type": "stream",
     "text": [
      "[{'id': 6, 'question_text': 'You need to create the process for salespeople. \\nWhat should you do? To answer, select the appropriate options in the answer area. \\nNOTE: Each correct selection is worth one point.', 'src': 'l4d', 'type': 'dropdown', 'comment': '', 'casestudy': '', 'items': {'1': {'text': 'Deliver on a specific customer date ', 'options': ['View the Location Code for available inventory', 'View the Item Availability by Periods', 'Check the Catalog on the Sales Line Details']}, '2': {'text': 'Deliver on a specific customer date ', 'options': ['Choose Make Invoice', 'Choose Copy Document', 'Choose Make Order']}}, 'correct_answer': ['View the Item Availability by Periods', 'Choose Make Order']}, {'id': 26, 'question_text': 'You set up a new company for a customer. \\nThe customer provides you with the chart of accounts and the preferred grouping of items, vendors, and customers. \\nYou must ensure that item posting corresponds with the grouping preferences and chart of accounts for the customer. \\nYou need to create the posting groups and setup. \\nWhich type of posting groups should you create? \\nTo answer, drag the appropriate posting group types to the correct entities. \\nEach posting group type may be used once, more than once, or not at all.', 'src': 'l4d', 'type': 'drag_drop_pairs', 'comment': '', 'casestudy': '', 'items': {'Customer Posting Group': 'Specific posting group', 'VAT Product Poting Group': 'Tax posting groups', 'VAT Business Posting Group': 'Tax posting groups', 'Inventory Posting Group': 'Specific posting group', 'Gen. Product Posting Group': 'General posting group', 'Vendor Posting Group': 'Specific posting group', 'Gen. Business Posting Group': 'General posting group'}}, {'id': 30, 'question_text': 'You are implementing Dynamics 365 Business Central for a company. \\nThe company provides subscription services to their customers. \\nThe subscription invoices are almost identical each month. \\nThe company wants to set up recurring sales lines for subscription invoices. \\nYou need to create systems for creating subscription invoices. \\nSolution: Create a new recurring sales line code. \\nThen, run the Create Recurring Invoices batch to create the invoice. \\nDoes the solution meet the goal?', 'src': 'l4d', 'type': 'multiple_choice', 'comment': '', 'casestudy': '', 'items': {'A': 'Yes', 'B': 'No'}, 'correct_answer': ['B']}, {'id': 1, 'question_text': 'You need to design a process to resolve the broker issues for Accounts. \\nWhich three actions should perform in sequence? \\nTo answer, move the appropriate actions from the list of actions to the answer area and arrange them in the correct order. \\nNOTE: More than one order of answer choices is correct. \\nYou will receive credit for any of the correct orders you select.', 'src': 'l4d', 'type': 'drag_drop_order', 'comment': '', 'casestudy': '', 'items': {'1': 'Create a No. Series.', '2': 'Create the Data template.', '3': 'Define the No. Series on the configuration template.'}}, {'id': 2, 'question_text': 'You need to set up payment terms for buying groups. \\nWhich two actions should you perform? \\nEach correct answer presents part of the solution. \\nNOTE: Each correct selection is worth one point.', 'src': 'l4d', 'type': 'multiple_choice', 'comment': '', 'casestudy': '', 'items': {'A': 'Set up payment terms with a value of CM+20D for the due date calculation.', 'B': 'Assign the payment terms to the customer price group.', 'C': 'Assign the payment terms to the customer.', 'D': 'Assign the payment terms to the customer posting group.', 'E': 'Set up payment terms with a value of D20 for the due date calculation.'}, 'correct_answer': ['A', 'C']}]\n"
     ]
    }
   ],
   "source": [
    "print(questions)"
   ]
  }
 ],
 "metadata": {
  "kernelspec": {
   "display_name": "Python 3",
   "language": "python",
   "name": "python3"
  },
  "language_info": {
   "codemirror_mode": {
    "name": "ipython",
    "version": 3
   },
   "file_extension": ".py",
   "mimetype": "text/x-python",
   "name": "python",
   "nbconvert_exporter": "python",
   "pygments_lexer": "ipython3",
   "version": "3.11.2"
  }
 },
 "nbformat": 4,
 "nbformat_minor": 2
}
